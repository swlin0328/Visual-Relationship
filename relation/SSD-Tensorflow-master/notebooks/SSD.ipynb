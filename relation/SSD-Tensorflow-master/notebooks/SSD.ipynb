{
 "cells": [
  {
   "cell_type": "code",
   "execution_count": 1,
   "metadata": {},
   "outputs": [],
   "source": [
    "import tensorflow as tf\n",
    "DATA_PATH = 'D:\\kaggle\\visual_relationship'"
   ]
  },
  {
   "cell_type": "code",
   "execution_count": 2,
   "metadata": {},
   "outputs": [],
   "source": [
    "def conv_layer(input_X, filters, kernel_size=5, pool_size=1, name=\"conv\"):\n",
    "    with tf.name_scope(name):\n",
    "        channels_in = int(input_X.shape[-1])\n",
    "        w = tf.Variable(tf.truncated_normal([kernel_size, channels_in, filters], stddev=0.1), name='w')\n",
    "        b = tf.Variable(tf.constant(0.1, shape=[filters], name=\"b\"))\n",
    "        conv = tf.nn.conv1d(input_X, w, stride=1, padding='SAME')\n",
    "        act = tf.nn.relu(conv + b)\n",
    "\n",
    "        return tf.layers.max_pooling1d(act, pool_size=pool_size, strides=pool_size, padding=\"SAME\")"
   ]
  },
  {
   "cell_type": "code",
   "execution_count": 6,
   "metadata": {},
   "outputs": [],
   "source": [
    "def fc_layer(input_X, output_size, name=\"fc\"):\n",
    "    with tf.name_scope(name):\n",
    "        input_size = int(input_X.shape[-1])\n",
    "        w = tf.Variable(tf.truncated_normal([input_size, output_size], stddev=0.1), name='w')\n",
    "        b = tf.Variable(tf.constant(0.1, shape=[output_size], name=\"b\"))\n",
    "        act = tf.nn.sigmoid(tf.matmul(input_X, w) + b)\n",
    "\n",
    "        return act"
   ]
  },
  {
   "cell_type": "code",
   "execution_count": 7,
   "metadata": {},
   "outputs": [],
   "source": [
    "def lstm_cell(num_cell, keep_prob):\n",
    "    lstm_cell = tf.contrib.rnn.BasicLSTMCell(num_units=num_cell, state_is_tuple=True)\n",
    "    return tf.contrib.rnn.DropoutWrapper(cell=lstm_cell, output_keep_prob=keep_prob)"
   ]
  },
  {
   "cell_type": "code",
   "execution_count": 8,
   "metadata": {},
   "outputs": [],
   "source": [
    "def build_model(temp_dataset, req_config):\n",
    "    with tf.device('/cpu:0'):\n",
    "        keep_prob = tf.placeholder(tf.float32, [])\n",
    "        batch_size = tf.placeholder(tf.int32, [])\n",
    "        learning_rate = float(req_config['learning_rate']) if 'learning_rate' in req_config.keys() else 0.001\n",
    "\n",
    "        data_layer = init_input_tensor(temp_dataset)\n",
    "        hidden_layer = init_hidden_tensor(data_layer, keep_prob, batch_size)\n",
    "        output_layer = init_output_tensor(data_layer, hidden_layer)\n",
    "\n",
    "        cost = tf.reduce_mean(tf.nn.softmax_cross_entropy_with_logits(labels=data_layer['group_label'],\n",
    "                                                                      logits=output_layer))\n",
    "        correct_prediction = tf.equal(tf.argmax(output_layer, 1), tf.argmax(data_layer['group_label'], 1))\n",
    "        accuracy = tf.reduce_mean(tf.cast(correct_prediction, \"float\"))\n",
    "\n",
    "        optimizer = tf.train.AdamOptimizer(learning_rate=learning_rate)\n",
    "        gradients = optimizer.compute_gradients(loss=cost)\n",
    "        train_op = optimizer.apply_gradients(gradients)\n",
    "        l2_norm = lambda t: tf.sqrt(tf.reduce_sum(tf.pow(t, 2)))\n",
    "        \n",
    "        init = tf.global_variables_initializer()\n",
    "        return config"
   ]
  },
  {
   "cell_type": "code",
   "execution_count": 9,
   "metadata": {},
   "outputs": [],
   "source": [
    "def batch_norm(x):\n",
    "    epsilon = 1e-3\n",
    "    batch_mean, batch_var = tf.nn.moments(x, [0, 1, 2])\n",
    "    return tf.nn.batch_normalization(x, batch_mean, batch_var, offset=None, scale=None, variance_epsilon=epsilon)"
   ]
  },
  {
   "cell_type": "code",
   "execution_count": 10,
   "metadata": {},
   "outputs": [],
   "source": [
    "def init_model(sess, config, reload):\n",
    "    sess.run(config['init'])\n",
    "    if reload == 'True':\n",
    "        saver = tf.train.Saver()\n",
    "        path = DATA_PATH + 'result/model/' + config['model_name'] + '.ckpt'\n",
    "        saver.restore(sess, path)\n",
    "        print(\"=== Model restored ===\")"
   ]
  },
  {
   "cell_type": "code",
   "execution_count": 1,
   "metadata": {},
   "outputs": [],
   "source": [
    "def save_model(sess, config, valid_acc, num_step, db_conn):\n",
    "    saver = tf.train.Saver()\n",
    "    path = DATA_PATH + 'result/model/' + config['model_name'] + '.ckpt'\n",
    "    saver.save(sess, path)\n",
    "\n",
    "    num_params = count_parameters()\n",
    "    sql4model = sql4Tensorflow(model_name=config['model_name'], customer_group=-1, creator=config['user'],\n",
    "                               sql_conn=db_conn)\n",
    "    sql4model.save2sql(model_type=config['model_type'], model_params=num_params, valid_acc=valid_acc, step=num_step)\n",
    "    print(\"=== Model saved ===\")"
   ]
  },
  {
   "cell_type": "code",
   "execution_count": null,
   "metadata": {},
   "outputs": [],
   "source": []
  }
 ],
 "metadata": {
  "kernelspec": {
   "display_name": "Python 3",
   "language": "python",
   "name": "python3"
  },
  "language_info": {
   "codemirror_mode": {
    "name": "ipython",
    "version": 3
   },
   "file_extension": ".py",
   "mimetype": "text/x-python",
   "name": "python",
   "nbconvert_exporter": "python",
   "pygments_lexer": "ipython3",
   "version": "3.7.3"
  }
 },
 "nbformat": 4,
 "nbformat_minor": 2
}
